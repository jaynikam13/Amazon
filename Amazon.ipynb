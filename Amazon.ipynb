{
 "cells": [
  {
   "cell_type": "code",
   "execution_count": 3,
   "id": "caa1150e-2036-45bc-b23a-f8efd4af38b4",
   "metadata": {},
   "outputs": [],
   "source": [
    "# importing lib.\n",
    "import numpy as np\n",
    "import pandas as pd\n",
    "import matplotlib.pyplot as plt\n",
    "import seaborn as sns\n"
   ]
  },
  {
   "cell_type": "code",
   "execution_count": null,
   "id": "72060aea-c63d-4285-8ada-ec5ba5dc9dc5",
   "metadata": {},
   "outputs": [],
   "source": [
    "df = pd.read_csv(r\"C:\\Users\\jaymi\\Downloads\\mobile sale.csv\")"
   ]
  },
  {
   "cell_type": "code",
   "execution_count": 34,
   "id": "1bf2ee84-dce7-49d2-8960-28e37dea9d33",
   "metadata": {},
   "outputs": [
    {
     "data": {
      "text/html": [
       "<div>\n",
       "<style scoped>\n",
       "    .dataframe tbody tr th:only-of-type {\n",
       "        vertical-align: middle;\n",
       "    }\n",
       "\n",
       "    .dataframe tbody tr th {\n",
       "        vertical-align: top;\n",
       "    }\n",
       "\n",
       "    .dataframe thead th {\n",
       "        text-align: right;\n",
       "    }\n",
       "</style>\n",
       "<table border=\"1\" class=\"dataframe\">\n",
       "  <thead>\n",
       "    <tr style=\"text-align: right;\">\n",
       "      <th></th>\n",
       "      <th>Transaction Id</th>\n",
       "      <th>Day</th>\n",
       "      <th>Month</th>\n",
       "      <th>Year</th>\n",
       "      <th>Day Name</th>\n",
       "      <th>Brand</th>\n",
       "      <th>Unit sold</th>\n",
       "      <th>price per unit</th>\n",
       "      <th>Customer age</th>\n",
       "      <th>City</th>\n",
       "      <th>...</th>\n",
       "      <th>Profit</th>\n",
       "      <th>Month.1</th>\n",
       "      <th>Payment Mode.1</th>\n",
       "      <th>Status</th>\n",
       "      <th>Fulfliment</th>\n",
       "      <th>Sales Channel</th>\n",
       "      <th>ship service level</th>\n",
       "      <th>Currency</th>\n",
       "      <th>Amount</th>\n",
       "      <th>Date</th>\n",
       "    </tr>\n",
       "  </thead>\n",
       "  <tbody>\n",
       "    <tr>\n",
       "      <th>0</th>\n",
       "      <td>1.0</td>\n",
       "      <td>9</td>\n",
       "      <td>Jan</td>\n",
       "      <td>6/15/2016</td>\n",
       "      <td>Sat</td>\n",
       "      <td>Xiaomi</td>\n",
       "      <td>6</td>\n",
       "      <td>10163.4</td>\n",
       "      <td>22</td>\n",
       "      <td>Mumbai</td>\n",
       "      <td>...</td>\n",
       "      <td>41.9136</td>\n",
       "      <td>Jan</td>\n",
       "      <td>online</td>\n",
       "      <td>Cancelled</td>\n",
       "      <td>Merchant</td>\n",
       "      <td>Amazon.in</td>\n",
       "      <td>Standard</td>\n",
       "      <td>INR</td>\n",
       "      <td>500.0</td>\n",
       "      <td>20/2/2025</td>\n",
       "    </tr>\n",
       "    <tr>\n",
       "      <th>1</th>\n",
       "      <td>2.0</td>\n",
       "      <td>9</td>\n",
       "      <td>Feb</td>\n",
       "      <td>6/15/2016</td>\n",
       "      <td>Sunday</td>\n",
       "      <td>Vivo</td>\n",
       "      <td>5</td>\n",
       "      <td>10721.2</td>\n",
       "      <td>23</td>\n",
       "      <td>Pune</td>\n",
       "      <td>...</td>\n",
       "      <td>219.5820</td>\n",
       "      <td>Feb</td>\n",
       "      <td>offline</td>\n",
       "      <td>Shipped</td>\n",
       "      <td>Amazon</td>\n",
       "      <td>Amazon.in</td>\n",
       "      <td>Expedited</td>\n",
       "      <td>INR</td>\n",
       "      <td>700.0</td>\n",
       "      <td>20/2/2026</td>\n",
       "    </tr>\n",
       "    <tr>\n",
       "      <th>2</th>\n",
       "      <td>3.0</td>\n",
       "      <td>9</td>\n",
       "      <td>Mar</td>\n",
       "      <td>6/15/2016</td>\n",
       "      <td>Monday</td>\n",
       "      <td>Realme</td>\n",
       "      <td>7</td>\n",
       "      <td>20123.2</td>\n",
       "      <td>44</td>\n",
       "      <td>Chennai</td>\n",
       "      <td>...</td>\n",
       "      <td>6.8714</td>\n",
       "      <td>Mar</td>\n",
       "      <td>online</td>\n",
       "      <td>Delivered</td>\n",
       "      <td>Merchant</td>\n",
       "      <td>Amazon.in</td>\n",
       "      <td>Standard</td>\n",
       "      <td>INR</td>\n",
       "      <td>3000.0</td>\n",
       "      <td>20/2/2027</td>\n",
       "    </tr>\n",
       "    <tr>\n",
       "      <th>3</th>\n",
       "      <td>4.0</td>\n",
       "      <td>9</td>\n",
       "      <td>May</td>\n",
       "      <td>6/15/2016</td>\n",
       "      <td>Tuesday</td>\n",
       "      <td>Oppo</td>\n",
       "      <td>8</td>\n",
       "      <td>22443.2</td>\n",
       "      <td>55</td>\n",
       "      <td>delli</td>\n",
       "      <td>...</td>\n",
       "      <td>-383.0310</td>\n",
       "      <td>May</td>\n",
       "      <td>offline</td>\n",
       "      <td>Cancelled</td>\n",
       "      <td>Amazon</td>\n",
       "      <td>Amazon.in</td>\n",
       "      <td>Expedited</td>\n",
       "      <td>INR</td>\n",
       "      <td>3900.0</td>\n",
       "      <td>20/2/2028</td>\n",
       "    </tr>\n",
       "    <tr>\n",
       "      <th>4</th>\n",
       "      <td>5.0</td>\n",
       "      <td>9</td>\n",
       "      <td>june</td>\n",
       "      <td>6/15/2016</td>\n",
       "      <td>Wednesday</td>\n",
       "      <td>Poco</td>\n",
       "      <td>9</td>\n",
       "      <td>42423.2</td>\n",
       "      <td>66</td>\n",
       "      <td>Nashik</td>\n",
       "      <td>...</td>\n",
       "      <td>2.5164</td>\n",
       "      <td>june</td>\n",
       "      <td>online</td>\n",
       "      <td>Shipped</td>\n",
       "      <td>Merchant</td>\n",
       "      <td>Amazon.in</td>\n",
       "      <td>Standard</td>\n",
       "      <td>INR</td>\n",
       "      <td>5150.0</td>\n",
       "      <td>20/2/2029</td>\n",
       "    </tr>\n",
       "  </tbody>\n",
       "</table>\n",
       "<p>5 rows × 45 columns</p>\n",
       "</div>"
      ],
      "text/plain": [
       "   Transaction Id  Day Month       Year   Day Name  Brand   Unit sold   \\\n",
       "0             1.0    9   Jan  6/15/2016        Sat  Xiaomi           6   \n",
       "1             2.0    9  Feb   6/15/2016     Sunday    Vivo           5   \n",
       "2             3.0    9   Mar  6/15/2016     Monday  Realme           7   \n",
       "3             4.0    9   May  6/15/2016    Tuesday    Oppo           8   \n",
       "4             5.0    9  june  6/15/2016  Wednesday    Poco           9   \n",
       "\n",
       "   price per unit  Customer age     City  ...    Profit Month.1  \\\n",
       "0         10163.4            22   Mumbai  ...   41.9136     Jan   \n",
       "1         10721.2            23     Pune  ...  219.5820    Feb    \n",
       "2         20123.2            44  Chennai  ...    6.8714     Mar   \n",
       "3         22443.2            55    delli  ... -383.0310     May   \n",
       "4         42423.2            66   Nashik  ...    2.5164    june   \n",
       "\n",
       "   Payment Mode.1     Status Fulfliment  Sales Channel ship service level  \\\n",
       "0          online  Cancelled   Merchant      Amazon.in           Standard   \n",
       "1         offline    Shipped     Amazon      Amazon.in          Expedited   \n",
       "2          online  Delivered   Merchant      Amazon.in           Standard   \n",
       "3         offline  Cancelled     Amazon      Amazon.in          Expedited   \n",
       "4          online    Shipped   Merchant      Amazon.in           Standard   \n",
       "\n",
       "   Currency  Amount       Date  \n",
       "0       INR   500.0  20/2/2025  \n",
       "1       INR   700.0  20/2/2026  \n",
       "2       INR  3000.0  20/2/2027  \n",
       "3       INR  3900.0  20/2/2028  \n",
       "4       INR  5150.0  20/2/2029  \n",
       "\n",
       "[5 rows x 45 columns]"
      ]
     },
     "execution_count": 34,
     "metadata": {},
     "output_type": "execute_result"
    }
   ],
   "source": [
    "df.head()"
   ]
  },
  {
   "cell_type": "code",
   "execution_count": 35,
   "id": "4b68323e-70e3-443c-9cc4-d64e1431dabd",
   "metadata": {},
   "outputs": [
    {
     "data": {
      "text/html": [
       "<div>\n",
       "<style scoped>\n",
       "    .dataframe tbody tr th:only-of-type {\n",
       "        vertical-align: middle;\n",
       "    }\n",
       "\n",
       "    .dataframe tbody tr th {\n",
       "        vertical-align: top;\n",
       "    }\n",
       "\n",
       "    .dataframe thead th {\n",
       "        text-align: right;\n",
       "    }\n",
       "</style>\n",
       "<table border=\"1\" class=\"dataframe\">\n",
       "  <thead>\n",
       "    <tr style=\"text-align: right;\">\n",
       "      <th></th>\n",
       "      <th>Transaction Id</th>\n",
       "      <th>Day</th>\n",
       "      <th>Month</th>\n",
       "      <th>Year</th>\n",
       "      <th>Day Name</th>\n",
       "      <th>Brand</th>\n",
       "      <th>Unit sold</th>\n",
       "      <th>price per unit</th>\n",
       "      <th>Customer age</th>\n",
       "      <th>City</th>\n",
       "      <th>...</th>\n",
       "      <th>Profit</th>\n",
       "      <th>Month.1</th>\n",
       "      <th>Payment Mode.1</th>\n",
       "      <th>Status</th>\n",
       "      <th>Fulfliment</th>\n",
       "      <th>Sales Channel</th>\n",
       "      <th>ship service level</th>\n",
       "      <th>Currency</th>\n",
       "      <th>Amount</th>\n",
       "      <th>Date</th>\n",
       "    </tr>\n",
       "  </thead>\n",
       "  <tbody>\n",
       "    <tr>\n",
       "      <th>161</th>\n",
       "      <td>162.0</td>\n",
       "      <td>9</td>\n",
       "      <td>Nov</td>\n",
       "      <td>6/15/2022</td>\n",
       "      <td>Saturday</td>\n",
       "      <td>Iphone</td>\n",
       "      <td>3</td>\n",
       "      <td>1233416.28</td>\n",
       "      <td>23</td>\n",
       "      <td>Thane</td>\n",
       "      <td>...</td>\n",
       "      <td>NaN</td>\n",
       "      <td>NaN</td>\n",
       "      <td>NaN</td>\n",
       "      <td>NaN</td>\n",
       "      <td>NaN</td>\n",
       "      <td>NaN</td>\n",
       "      <td>NaN</td>\n",
       "      <td>NaN</td>\n",
       "      <td>NaN</td>\n",
       "      <td>NaN</td>\n",
       "    </tr>\n",
       "    <tr>\n",
       "      <th>162</th>\n",
       "      <td>163.0</td>\n",
       "      <td>9</td>\n",
       "      <td>Dec</td>\n",
       "      <td>6/15/2022</td>\n",
       "      <td>Sunday</td>\n",
       "      <td>Xiaomi</td>\n",
       "      <td>2</td>\n",
       "      <td>1241040.44</td>\n",
       "      <td>44</td>\n",
       "      <td>Surat</td>\n",
       "      <td>...</td>\n",
       "      <td>NaN</td>\n",
       "      <td>NaN</td>\n",
       "      <td>NaN</td>\n",
       "      <td>NaN</td>\n",
       "      <td>NaN</td>\n",
       "      <td>NaN</td>\n",
       "      <td>NaN</td>\n",
       "      <td>NaN</td>\n",
       "      <td>NaN</td>\n",
       "      <td>NaN</td>\n",
       "    </tr>\n",
       "    <tr>\n",
       "      <th>163</th>\n",
       "      <td>164.0</td>\n",
       "      <td>9</td>\n",
       "      <td>Jan</td>\n",
       "      <td>6/15/2022</td>\n",
       "      <td>Monday</td>\n",
       "      <td>Vivo</td>\n",
       "      <td>8</td>\n",
       "      <td>1248664.60</td>\n",
       "      <td>55</td>\n",
       "      <td>Vadodra</td>\n",
       "      <td>...</td>\n",
       "      <td>NaN</td>\n",
       "      <td>NaN</td>\n",
       "      <td>NaN</td>\n",
       "      <td>NaN</td>\n",
       "      <td>NaN</td>\n",
       "      <td>NaN</td>\n",
       "      <td>NaN</td>\n",
       "      <td>NaN</td>\n",
       "      <td>NaN</td>\n",
       "      <td>NaN</td>\n",
       "    </tr>\n",
       "    <tr>\n",
       "      <th>164</th>\n",
       "      <td>165.0</td>\n",
       "      <td>9</td>\n",
       "      <td>Feb</td>\n",
       "      <td>6/15/2022</td>\n",
       "      <td>Tuesday</td>\n",
       "      <td>Realme</td>\n",
       "      <td>0</td>\n",
       "      <td>1256288.76</td>\n",
       "      <td>66</td>\n",
       "      <td>Gurgaon</td>\n",
       "      <td>...</td>\n",
       "      <td>NaN</td>\n",
       "      <td>NaN</td>\n",
       "      <td>NaN</td>\n",
       "      <td>NaN</td>\n",
       "      <td>NaN</td>\n",
       "      <td>NaN</td>\n",
       "      <td>NaN</td>\n",
       "      <td>NaN</td>\n",
       "      <td>NaN</td>\n",
       "      <td>NaN</td>\n",
       "    </tr>\n",
       "    <tr>\n",
       "      <th>165</th>\n",
       "      <td>166.0</td>\n",
       "      <td>9</td>\n",
       "      <td>Mar</td>\n",
       "      <td>6/15/2022</td>\n",
       "      <td>Wednesday</td>\n",
       "      <td>Oppo</td>\n",
       "      <td>6</td>\n",
       "      <td>1263912.92</td>\n",
       "      <td>76</td>\n",
       "      <td>Shahada</td>\n",
       "      <td>...</td>\n",
       "      <td>NaN</td>\n",
       "      <td>NaN</td>\n",
       "      <td>NaN</td>\n",
       "      <td>NaN</td>\n",
       "      <td>NaN</td>\n",
       "      <td>NaN</td>\n",
       "      <td>NaN</td>\n",
       "      <td>NaN</td>\n",
       "      <td>NaN</td>\n",
       "      <td>NaN</td>\n",
       "    </tr>\n",
       "  </tbody>\n",
       "</table>\n",
       "<p>5 rows × 45 columns</p>\n",
       "</div>"
      ],
      "text/plain": [
       "     Transaction Id  Day Month       Year   Day Name  Brand   Unit sold   \\\n",
       "161           162.0    9   Nov  6/15/2022   Saturday  Iphone           3   \n",
       "162           163.0    9   Dec  6/15/2022     Sunday  Xiaomi           2   \n",
       "163           164.0    9   Jan  6/15/2022     Monday    Vivo           8   \n",
       "164           165.0    9   Feb  6/15/2022    Tuesday  Realme           0   \n",
       "165           166.0    9   Mar  6/15/2022  Wednesday    Oppo           6   \n",
       "\n",
       "     price per unit  Customer age     City  ... Profit Month.1  \\\n",
       "161      1233416.28            23    Thane  ...    NaN     NaN   \n",
       "162      1241040.44            44   Surat   ...    NaN     NaN   \n",
       "163      1248664.60            55  Vadodra  ...    NaN     NaN   \n",
       "164      1256288.76            66  Gurgaon  ...    NaN     NaN   \n",
       "165      1263912.92            76  Shahada  ...    NaN     NaN   \n",
       "\n",
       "     Payment Mode.1 Status Fulfliment  Sales Channel ship service level  \\\n",
       "161             NaN    NaN        NaN            NaN                NaN   \n",
       "162             NaN    NaN        NaN            NaN                NaN   \n",
       "163             NaN    NaN        NaN            NaN                NaN   \n",
       "164             NaN    NaN        NaN            NaN                NaN   \n",
       "165             NaN    NaN        NaN            NaN                NaN   \n",
       "\n",
       "     Currency Amount Date  \n",
       "161       NaN    NaN  NaN  \n",
       "162       NaN    NaN  NaN  \n",
       "163       NaN    NaN  NaN  \n",
       "164       NaN    NaN  NaN  \n",
       "165       NaN    NaN  NaN  \n",
       "\n",
       "[5 rows x 45 columns]"
      ]
     },
     "execution_count": 35,
     "metadata": {},
     "output_type": "execute_result"
    }
   ],
   "source": [
    "df.tail()  #extract last 5 row"
   ]
  },
  {
   "cell_type": "code",
   "execution_count": 36,
   "id": "2fea0a17-00f5-4fbc-8614-b270a8218cfe",
   "metadata": {},
   "outputs": [
    {
     "data": {
      "text/html": [
       "<div>\n",
       "<style scoped>\n",
       "    .dataframe tbody tr th:only-of-type {\n",
       "        vertical-align: middle;\n",
       "    }\n",
       "\n",
       "    .dataframe tbody tr th {\n",
       "        vertical-align: top;\n",
       "    }\n",
       "\n",
       "    .dataframe thead th {\n",
       "        text-align: right;\n",
       "    }\n",
       "</style>\n",
       "<table border=\"1\" class=\"dataframe\">\n",
       "  <thead>\n",
       "    <tr style=\"text-align: right;\">\n",
       "      <th></th>\n",
       "      <th>Transaction Id</th>\n",
       "      <th>Day</th>\n",
       "      <th>Month</th>\n",
       "      <th>Year</th>\n",
       "      <th>Day Name</th>\n",
       "      <th>Brand</th>\n",
       "      <th>Unit sold</th>\n",
       "      <th>price per unit</th>\n",
       "      <th>Customer age</th>\n",
       "      <th>City</th>\n",
       "      <th>...</th>\n",
       "      <th>Profit</th>\n",
       "      <th>Month.1</th>\n",
       "      <th>Payment Mode.1</th>\n",
       "      <th>Status</th>\n",
       "      <th>Fulfliment</th>\n",
       "      <th>Sales Channel</th>\n",
       "      <th>ship service level</th>\n",
       "      <th>Currency</th>\n",
       "      <th>Amount</th>\n",
       "      <th>Date</th>\n",
       "    </tr>\n",
       "  </thead>\n",
       "  <tbody>\n",
       "    <tr>\n",
       "      <th>0</th>\n",
       "      <td>1.0</td>\n",
       "      <td>9</td>\n",
       "      <td>Jan</td>\n",
       "      <td>6/15/2016</td>\n",
       "      <td>Sat</td>\n",
       "      <td>Xiaomi</td>\n",
       "      <td>6</td>\n",
       "      <td>10163.4</td>\n",
       "      <td>22</td>\n",
       "      <td>Mumbai</td>\n",
       "      <td>...</td>\n",
       "      <td>41.9136</td>\n",
       "      <td>Jan</td>\n",
       "      <td>online</td>\n",
       "      <td>Cancelled</td>\n",
       "      <td>Merchant</td>\n",
       "      <td>Amazon.in</td>\n",
       "      <td>Standard</td>\n",
       "      <td>INR</td>\n",
       "      <td>500.0</td>\n",
       "      <td>20/2/2025</td>\n",
       "    </tr>\n",
       "    <tr>\n",
       "      <th>1</th>\n",
       "      <td>2.0</td>\n",
       "      <td>9</td>\n",
       "      <td>Feb</td>\n",
       "      <td>6/15/2016</td>\n",
       "      <td>Sunday</td>\n",
       "      <td>Vivo</td>\n",
       "      <td>5</td>\n",
       "      <td>10721.2</td>\n",
       "      <td>23</td>\n",
       "      <td>Pune</td>\n",
       "      <td>...</td>\n",
       "      <td>219.5820</td>\n",
       "      <td>Feb</td>\n",
       "      <td>offline</td>\n",
       "      <td>Shipped</td>\n",
       "      <td>Amazon</td>\n",
       "      <td>Amazon.in</td>\n",
       "      <td>Expedited</td>\n",
       "      <td>INR</td>\n",
       "      <td>700.0</td>\n",
       "      <td>20/2/2026</td>\n",
       "    </tr>\n",
       "    <tr>\n",
       "      <th>2</th>\n",
       "      <td>3.0</td>\n",
       "      <td>9</td>\n",
       "      <td>Mar</td>\n",
       "      <td>6/15/2016</td>\n",
       "      <td>Monday</td>\n",
       "      <td>Realme</td>\n",
       "      <td>7</td>\n",
       "      <td>20123.2</td>\n",
       "      <td>44</td>\n",
       "      <td>Chennai</td>\n",
       "      <td>...</td>\n",
       "      <td>6.8714</td>\n",
       "      <td>Mar</td>\n",
       "      <td>online</td>\n",
       "      <td>Delivered</td>\n",
       "      <td>Merchant</td>\n",
       "      <td>Amazon.in</td>\n",
       "      <td>Standard</td>\n",
       "      <td>INR</td>\n",
       "      <td>3000.0</td>\n",
       "      <td>20/2/2027</td>\n",
       "    </tr>\n",
       "    <tr>\n",
       "      <th>3</th>\n",
       "      <td>4.0</td>\n",
       "      <td>9</td>\n",
       "      <td>May</td>\n",
       "      <td>6/15/2016</td>\n",
       "      <td>Tuesday</td>\n",
       "      <td>Oppo</td>\n",
       "      <td>8</td>\n",
       "      <td>22443.2</td>\n",
       "      <td>55</td>\n",
       "      <td>delli</td>\n",
       "      <td>...</td>\n",
       "      <td>-383.0310</td>\n",
       "      <td>May</td>\n",
       "      <td>offline</td>\n",
       "      <td>Cancelled</td>\n",
       "      <td>Amazon</td>\n",
       "      <td>Amazon.in</td>\n",
       "      <td>Expedited</td>\n",
       "      <td>INR</td>\n",
       "      <td>3900.0</td>\n",
       "      <td>20/2/2028</td>\n",
       "    </tr>\n",
       "    <tr>\n",
       "      <th>4</th>\n",
       "      <td>5.0</td>\n",
       "      <td>9</td>\n",
       "      <td>june</td>\n",
       "      <td>6/15/2016</td>\n",
       "      <td>Wednesday</td>\n",
       "      <td>Poco</td>\n",
       "      <td>9</td>\n",
       "      <td>42423.2</td>\n",
       "      <td>66</td>\n",
       "      <td>Nashik</td>\n",
       "      <td>...</td>\n",
       "      <td>2.5164</td>\n",
       "      <td>june</td>\n",
       "      <td>online</td>\n",
       "      <td>Shipped</td>\n",
       "      <td>Merchant</td>\n",
       "      <td>Amazon.in</td>\n",
       "      <td>Standard</td>\n",
       "      <td>INR</td>\n",
       "      <td>5150.0</td>\n",
       "      <td>20/2/2029</td>\n",
       "    </tr>\n",
       "  </tbody>\n",
       "</table>\n",
       "<p>5 rows × 45 columns</p>\n",
       "</div>"
      ],
      "text/plain": [
       "   Transaction Id  Day Month       Year   Day Name  Brand   Unit sold   \\\n",
       "0             1.0    9   Jan  6/15/2016        Sat  Xiaomi           6   \n",
       "1             2.0    9  Feb   6/15/2016     Sunday    Vivo           5   \n",
       "2             3.0    9   Mar  6/15/2016     Monday  Realme           7   \n",
       "3             4.0    9   May  6/15/2016    Tuesday    Oppo           8   \n",
       "4             5.0    9  june  6/15/2016  Wednesday    Poco           9   \n",
       "\n",
       "   price per unit  Customer age     City  ...    Profit Month.1  \\\n",
       "0         10163.4            22   Mumbai  ...   41.9136     Jan   \n",
       "1         10721.2            23     Pune  ...  219.5820    Feb    \n",
       "2         20123.2            44  Chennai  ...    6.8714     Mar   \n",
       "3         22443.2            55    delli  ... -383.0310     May   \n",
       "4         42423.2            66   Nashik  ...    2.5164    june   \n",
       "\n",
       "   Payment Mode.1     Status Fulfliment  Sales Channel ship service level  \\\n",
       "0          online  Cancelled   Merchant      Amazon.in           Standard   \n",
       "1         offline    Shipped     Amazon      Amazon.in          Expedited   \n",
       "2          online  Delivered   Merchant      Amazon.in           Standard   \n",
       "3         offline  Cancelled     Amazon      Amazon.in          Expedited   \n",
       "4          online    Shipped   Merchant      Amazon.in           Standard   \n",
       "\n",
       "   Currency  Amount       Date  \n",
       "0       INR   500.0  20/2/2025  \n",
       "1       INR   700.0  20/2/2026  \n",
       "2       INR  3000.0  20/2/2027  \n",
       "3       INR  3900.0  20/2/2028  \n",
       "4       INR  5150.0  20/2/2029  \n",
       "\n",
       "[5 rows x 45 columns]"
      ]
     },
     "execution_count": 36,
     "metadata": {},
     "output_type": "execute_result"
    }
   ],
   "source": [
    "df.head() #extract first 5 row"
   ]
  },
  {
   "cell_type": "code",
   "execution_count": 37,
   "id": "1b4609b8-cdc2-46b9-9c0b-8ba10c85d92d",
   "metadata": {},
   "outputs": [
    {
     "data": {
      "text/plain": [
       "(166, 45)"
      ]
     },
     "execution_count": 37,
     "metadata": {},
     "output_type": "execute_result"
    }
   ],
   "source": [
    "df.shape #no.of rows and column"
   ]
  },
  {
   "cell_type": "code",
   "execution_count": 38,
   "id": "0b5e27b8-28ea-4a30-85b3-481063142faf",
   "metadata": {},
   "outputs": [
    {
     "data": {
      "text/plain": [
       "7470"
      ]
     },
     "execution_count": 38,
     "metadata": {},
     "output_type": "execute_result"
    }
   ],
   "source": [
    "df.size"
   ]
  },
  {
   "cell_type": "code",
   "execution_count": 39,
   "id": "f2ad61a0-ddc6-4d59-b5c9-4e832caf8d04",
   "metadata": {},
   "outputs": [
    {
     "name": "stdout",
     "output_type": "stream",
     "text": [
      "<class 'pandas.core.frame.DataFrame'>\n",
      "RangeIndex: 166 entries, 0 to 165\n",
      "Data columns (total 45 columns):\n",
      " #   Column              Non-Null Count  Dtype  \n",
      "---  ------              --------------  -----  \n",
      " 0   Transaction Id      165 non-null    float64\n",
      " 1   Day                 166 non-null    int64  \n",
      " 2   Month               166 non-null    object \n",
      " 3   Year                166 non-null    object \n",
      " 4   Day Name            166 non-null    object \n",
      " 5   Brand               166 non-null    object \n",
      " 6   Unit sold           166 non-null    int64  \n",
      " 7   price per unit      166 non-null    float64\n",
      " 8   Customer age        166 non-null    int64  \n",
      " 9   City                166 non-null    object \n",
      " 10  Category            166 non-null    object \n",
      " 11  Payment Mode        166 non-null    object \n",
      " 12  Customer Rating     166 non-null    int64  \n",
      " 13  Mobile Model        166 non-null    object \n",
      " 14  Size                166 non-null    object \n",
      " 15  Row ID              29 non-null     float64\n",
      " 16  Order ID            29 non-null     object \n",
      " 17  Order Date          29 non-null     object \n",
      " 18  Ship Date           29 non-null     object \n",
      " 19  Ship Mode           29 non-null     object \n",
      " 20  Customer ID         29 non-null     object \n",
      " 21  Customer Name       29 non-null     object \n",
      " 22  Segment             29 non-null     object \n",
      " 23  Country             29 non-null     object \n",
      " 24  City.1              29 non-null     object \n",
      " 25  State               29 non-null     object \n",
      " 26  Postal Code         29 non-null     float64\n",
      " 27  Region              29 non-null     object \n",
      " 28  Product ID          29 non-null     object \n",
      " 29  Category.1          29 non-null     object \n",
      " 30  Sub-Category        29 non-null     object \n",
      " 31  Product Name        29 non-null     object \n",
      " 32  Sales               29 non-null     float64\n",
      " 33  Quantity            29 non-null     float64\n",
      " 34  Discount            29 non-null     float64\n",
      " 35  Profit              29 non-null     float64\n",
      " 36  Month.1             29 non-null     object \n",
      " 37  Payment Mode.1      29 non-null     object \n",
      " 38  Status              29 non-null     object \n",
      " 39  Fulfliment          29 non-null     object \n",
      " 40  Sales Channel       29 non-null     object \n",
      " 41  ship service level  29 non-null     object \n",
      " 42   Currency           29 non-null     object \n",
      " 43  Amount              29 non-null     float64\n",
      " 44  Date                29 non-null     object \n",
      "dtypes: float64(9), int64(4), object(32)\n",
      "memory usage: 58.5+ KB\n"
     ]
    }
   ],
   "source": [
    "df.info() #print a concise summary of a dataframe"
   ]
  },
  {
   "cell_type": "code",
   "execution_count": 40,
   "id": "0bf3ae56-7a0e-48c4-8cac-875b6a33c678",
   "metadata": {},
   "outputs": [
    {
     "data": {
      "text/plain": [
       "Index(['Transaction Id', 'Day', 'Month', 'Year', 'Day Name', 'Brand ',\n",
       "       'Unit sold ', 'price per unit', 'Customer age', 'City', 'Category',\n",
       "       'Payment Mode', 'Customer Rating', 'Mobile Model', 'Size', 'Row ID',\n",
       "       'Order ID', 'Order Date', 'Ship Date', 'Ship Mode', 'Customer ID',\n",
       "       'Customer Name', 'Segment', 'Country', 'City.1', 'State', 'Postal Code',\n",
       "       'Region', 'Product ID', 'Category.1', 'Sub-Category', 'Product Name',\n",
       "       'Sales', 'Quantity', 'Discount', 'Profit', 'Month.1', 'Payment Mode.1',\n",
       "       'Status', 'Fulfliment', 'Sales Channel', 'ship service level',\n",
       "       ' Currency', 'Amount', 'Date'],\n",
       "      dtype='object')"
      ]
     },
     "execution_count": 40,
     "metadata": {},
     "output_type": "execute_result"
    }
   ],
   "source": [
    "df.columns"
   ]
  },
  {
   "cell_type": "code",
   "execution_count": 41,
   "id": "1fcc8855-e9ca-4812-aafe-e03084860ae8",
   "metadata": {},
   "outputs": [
    {
     "data": {
      "text/plain": [
       "<bound method DataFrame.sum of      Transaction Id    Day  Month   Year  Day Name  Brand   Unit sold   \\\n",
       "0             False  False  False  False     False   False       False   \n",
       "1             False  False  False  False     False   False       False   \n",
       "2             False  False  False  False     False   False       False   \n",
       "3             False  False  False  False     False   False       False   \n",
       "4             False  False  False  False     False   False       False   \n",
       "..              ...    ...    ...    ...       ...     ...         ...   \n",
       "161           False  False  False  False     False   False       False   \n",
       "162           False  False  False  False     False   False       False   \n",
       "163           False  False  False  False     False   False       False   \n",
       "164           False  False  False  False     False   False       False   \n",
       "165           False  False  False  False     False   False       False   \n",
       "\n",
       "     price per unit  Customer age   City  ...  Profit  Month.1  \\\n",
       "0             False         False  False  ...   False    False   \n",
       "1             False         False  False  ...   False    False   \n",
       "2             False         False  False  ...   False    False   \n",
       "3             False         False  False  ...   False    False   \n",
       "4             False         False  False  ...   False    False   \n",
       "..              ...           ...    ...  ...     ...      ...   \n",
       "161           False         False  False  ...    True     True   \n",
       "162           False         False  False  ...    True     True   \n",
       "163           False         False  False  ...    True     True   \n",
       "164           False         False  False  ...    True     True   \n",
       "165           False         False  False  ...    True     True   \n",
       "\n",
       "     Payment Mode.1  Status  Fulfliment  Sales Channel  ship service level  \\\n",
       "0             False   False       False          False               False   \n",
       "1             False   False       False          False               False   \n",
       "2             False   False       False          False               False   \n",
       "3             False   False       False          False               False   \n",
       "4             False   False       False          False               False   \n",
       "..              ...     ...         ...            ...                 ...   \n",
       "161            True    True        True           True                True   \n",
       "162            True    True        True           True                True   \n",
       "163            True    True        True           True                True   \n",
       "164            True    True        True           True                True   \n",
       "165            True    True        True           True                True   \n",
       "\n",
       "      Currency  Amount   Date  \n",
       "0        False   False  False  \n",
       "1        False   False  False  \n",
       "2        False   False  False  \n",
       "3        False   False  False  \n",
       "4        False   False  False  \n",
       "..         ...     ...    ...  \n",
       "161       True    True   True  \n",
       "162       True    True   True  \n",
       "163       True    True   True  \n",
       "164       True    True   True  \n",
       "165       True    True   True  \n",
       "\n",
       "[166 rows x 45 columns]>"
      ]
     },
     "execution_count": 41,
     "metadata": {},
     "output_type": "execute_result"
    }
   ],
   "source": [
    "df.isnull().sum"
   ]
  },
  {
   "cell_type": "code",
   "execution_count": null,
   "id": "c3ba9a9c-e0fd-45b6-9493-4afd748b3678",
   "metadata": {},
   "outputs": [],
   "source": [
    "128976_89713"
   ]
  },
  {
   "cell_type": "code",
   "execution_count": null,
   "id": "a1f23c12-a46d-4936-a53a-d600b399e573",
   "metadata": {},
   "outputs": [],
   "source": [
    "#Basic Function"
   ]
  },
  {
   "cell_type": "code",
   "execution_count": 42,
   "id": "2a481345-1c4c-4bbb-ab74-ce2b52a45f53",
   "metadata": {},
   "outputs": [
    {
     "data": {
      "text/html": [
       "<div>\n",
       "<style scoped>\n",
       "    .dataframe tbody tr th:only-of-type {\n",
       "        vertical-align: middle;\n",
       "    }\n",
       "\n",
       "    .dataframe tbody tr th {\n",
       "        vertical-align: top;\n",
       "    }\n",
       "\n",
       "    .dataframe thead th {\n",
       "        text-align: right;\n",
       "    }\n",
       "</style>\n",
       "<table border=\"1\" class=\"dataframe\">\n",
       "  <thead>\n",
       "    <tr style=\"text-align: right;\">\n",
       "      <th></th>\n",
       "      <th>Transaction Id</th>\n",
       "      <th>Day</th>\n",
       "      <th>Month</th>\n",
       "      <th>Year</th>\n",
       "      <th>Day Name</th>\n",
       "      <th>Brand</th>\n",
       "      <th>Unit sold</th>\n",
       "      <th>price per unit</th>\n",
       "      <th>Customer age</th>\n",
       "      <th>City</th>\n",
       "      <th>...</th>\n",
       "      <th>Profit</th>\n",
       "      <th>Month.1</th>\n",
       "      <th>Payment Mode.1</th>\n",
       "      <th>Status</th>\n",
       "      <th>Fulfliment</th>\n",
       "      <th>Sales Channel</th>\n",
       "      <th>ship service level</th>\n",
       "      <th>Currency</th>\n",
       "      <th>Amount</th>\n",
       "      <th>Date</th>\n",
       "    </tr>\n",
       "  </thead>\n",
       "  <tbody>\n",
       "    <tr>\n",
       "      <th>0</th>\n",
       "      <td>1.0</td>\n",
       "      <td>9</td>\n",
       "      <td>Jan</td>\n",
       "      <td>6/15/2016</td>\n",
       "      <td>Sat</td>\n",
       "      <td>Xiaomi</td>\n",
       "      <td>6</td>\n",
       "      <td>10163.4</td>\n",
       "      <td>22</td>\n",
       "      <td>Mumbai</td>\n",
       "      <td>...</td>\n",
       "      <td>41.9136</td>\n",
       "      <td>Jan</td>\n",
       "      <td>online</td>\n",
       "      <td>Cancelled</td>\n",
       "      <td>Merchant</td>\n",
       "      <td>Amazon.in</td>\n",
       "      <td>Standard</td>\n",
       "      <td>INR</td>\n",
       "      <td>500.0</td>\n",
       "      <td>20/2/2025</td>\n",
       "    </tr>\n",
       "    <tr>\n",
       "      <th>1</th>\n",
       "      <td>2.0</td>\n",
       "      <td>9</td>\n",
       "      <td>Feb</td>\n",
       "      <td>6/15/2016</td>\n",
       "      <td>Sunday</td>\n",
       "      <td>Vivo</td>\n",
       "      <td>5</td>\n",
       "      <td>10721.2</td>\n",
       "      <td>23</td>\n",
       "      <td>Pune</td>\n",
       "      <td>...</td>\n",
       "      <td>219.5820</td>\n",
       "      <td>Feb</td>\n",
       "      <td>offline</td>\n",
       "      <td>Shipped</td>\n",
       "      <td>Amazon</td>\n",
       "      <td>Amazon.in</td>\n",
       "      <td>Expedited</td>\n",
       "      <td>INR</td>\n",
       "      <td>700.0</td>\n",
       "      <td>20/2/2026</td>\n",
       "    </tr>\n",
       "    <tr>\n",
       "      <th>2</th>\n",
       "      <td>3.0</td>\n",
       "      <td>9</td>\n",
       "      <td>Mar</td>\n",
       "      <td>6/15/2016</td>\n",
       "      <td>Monday</td>\n",
       "      <td>Realme</td>\n",
       "      <td>7</td>\n",
       "      <td>20123.2</td>\n",
       "      <td>44</td>\n",
       "      <td>Chennai</td>\n",
       "      <td>...</td>\n",
       "      <td>6.8714</td>\n",
       "      <td>Mar</td>\n",
       "      <td>online</td>\n",
       "      <td>Delivered</td>\n",
       "      <td>Merchant</td>\n",
       "      <td>Amazon.in</td>\n",
       "      <td>Standard</td>\n",
       "      <td>INR</td>\n",
       "      <td>3000.0</td>\n",
       "      <td>20/2/2027</td>\n",
       "    </tr>\n",
       "    <tr>\n",
       "      <th>3</th>\n",
       "      <td>4.0</td>\n",
       "      <td>9</td>\n",
       "      <td>May</td>\n",
       "      <td>6/15/2016</td>\n",
       "      <td>Tuesday</td>\n",
       "      <td>Oppo</td>\n",
       "      <td>8</td>\n",
       "      <td>22443.2</td>\n",
       "      <td>55</td>\n",
       "      <td>delli</td>\n",
       "      <td>...</td>\n",
       "      <td>-383.0310</td>\n",
       "      <td>May</td>\n",
       "      <td>offline</td>\n",
       "      <td>Cancelled</td>\n",
       "      <td>Amazon</td>\n",
       "      <td>Amazon.in</td>\n",
       "      <td>Expedited</td>\n",
       "      <td>INR</td>\n",
       "      <td>3900.0</td>\n",
       "      <td>20/2/2028</td>\n",
       "    </tr>\n",
       "    <tr>\n",
       "      <th>4</th>\n",
       "      <td>5.0</td>\n",
       "      <td>9</td>\n",
       "      <td>june</td>\n",
       "      <td>6/15/2016</td>\n",
       "      <td>Wednesday</td>\n",
       "      <td>Poco</td>\n",
       "      <td>9</td>\n",
       "      <td>42423.2</td>\n",
       "      <td>66</td>\n",
       "      <td>Nashik</td>\n",
       "      <td>...</td>\n",
       "      <td>2.5164</td>\n",
       "      <td>june</td>\n",
       "      <td>online</td>\n",
       "      <td>Shipped</td>\n",
       "      <td>Merchant</td>\n",
       "      <td>Amazon.in</td>\n",
       "      <td>Standard</td>\n",
       "      <td>INR</td>\n",
       "      <td>5150.0</td>\n",
       "      <td>20/2/2029</td>\n",
       "    </tr>\n",
       "  </tbody>\n",
       "</table>\n",
       "<p>5 rows × 45 columns</p>\n",
       "</div>"
      ],
      "text/plain": [
       "   Transaction Id  Day Month       Year   Day Name  Brand   Unit sold   \\\n",
       "0             1.0    9   Jan  6/15/2016        Sat  Xiaomi           6   \n",
       "1             2.0    9  Feb   6/15/2016     Sunday    Vivo           5   \n",
       "2             3.0    9   Mar  6/15/2016     Monday  Realme           7   \n",
       "3             4.0    9   May  6/15/2016    Tuesday    Oppo           8   \n",
       "4             5.0    9  june  6/15/2016  Wednesday    Poco           9   \n",
       "\n",
       "   price per unit  Customer age     City  ...    Profit Month.1  \\\n",
       "0         10163.4            22   Mumbai  ...   41.9136     Jan   \n",
       "1         10721.2            23     Pune  ...  219.5820    Feb    \n",
       "2         20123.2            44  Chennai  ...    6.8714     Mar   \n",
       "3         22443.2            55    delli  ... -383.0310     May   \n",
       "4         42423.2            66   Nashik  ...    2.5164    june   \n",
       "\n",
       "   Payment Mode.1     Status Fulfliment  Sales Channel ship service level  \\\n",
       "0          online  Cancelled   Merchant      Amazon.in           Standard   \n",
       "1         offline    Shipped     Amazon      Amazon.in          Expedited   \n",
       "2          online  Delivered   Merchant      Amazon.in           Standard   \n",
       "3         offline  Cancelled     Amazon      Amazon.in          Expedited   \n",
       "4          online    Shipped   Merchant      Amazon.in           Standard   \n",
       "\n",
       "   Currency  Amount       Date  \n",
       "0       INR   500.0  20/2/2025  \n",
       "1       INR   700.0  20/2/2026  \n",
       "2       INR  3000.0  20/2/2027  \n",
       "3       INR  3900.0  20/2/2028  \n",
       "4       INR  5150.0  20/2/2029  \n",
       "\n",
       "[5 rows x 45 columns]"
      ]
     },
     "execution_count": 42,
     "metadata": {},
     "output_type": "execute_result"
    }
   ],
   "source": [
    "df.head() #extract first 5 row"
   ]
  },
  {
   "cell_type": "code",
   "execution_count": 43,
   "id": "c0d67fdc-1d15-4a9d-8697-45d0343cfbc9",
   "metadata": {},
   "outputs": [
    {
     "data": {
      "text/html": [
       "<div>\n",
       "<style scoped>\n",
       "    .dataframe tbody tr th:only-of-type {\n",
       "        vertical-align: middle;\n",
       "    }\n",
       "\n",
       "    .dataframe tbody tr th {\n",
       "        vertical-align: top;\n",
       "    }\n",
       "\n",
       "    .dataframe thead th {\n",
       "        text-align: right;\n",
       "    }\n",
       "</style>\n",
       "<table border=\"1\" class=\"dataframe\">\n",
       "  <thead>\n",
       "    <tr style=\"text-align: right;\">\n",
       "      <th></th>\n",
       "      <th>Transaction Id</th>\n",
       "      <th>Day</th>\n",
       "      <th>Month</th>\n",
       "      <th>Year</th>\n",
       "      <th>Day Name</th>\n",
       "      <th>Brand</th>\n",
       "      <th>Unit sold</th>\n",
       "      <th>price per unit</th>\n",
       "      <th>Customer age</th>\n",
       "      <th>City</th>\n",
       "      <th>...</th>\n",
       "      <th>Profit</th>\n",
       "      <th>Month.1</th>\n",
       "      <th>Payment Mode.1</th>\n",
       "      <th>Status</th>\n",
       "      <th>Fulfliment</th>\n",
       "      <th>Sales Channel</th>\n",
       "      <th>ship service level</th>\n",
       "      <th>Currency</th>\n",
       "      <th>Amount</th>\n",
       "      <th>Date</th>\n",
       "    </tr>\n",
       "  </thead>\n",
       "  <tbody>\n",
       "    <tr>\n",
       "      <th>161</th>\n",
       "      <td>162.0</td>\n",
       "      <td>9</td>\n",
       "      <td>Nov</td>\n",
       "      <td>6/15/2022</td>\n",
       "      <td>Saturday</td>\n",
       "      <td>Iphone</td>\n",
       "      <td>3</td>\n",
       "      <td>1233416.28</td>\n",
       "      <td>23</td>\n",
       "      <td>Thane</td>\n",
       "      <td>...</td>\n",
       "      <td>NaN</td>\n",
       "      <td>NaN</td>\n",
       "      <td>NaN</td>\n",
       "      <td>NaN</td>\n",
       "      <td>NaN</td>\n",
       "      <td>NaN</td>\n",
       "      <td>NaN</td>\n",
       "      <td>NaN</td>\n",
       "      <td>NaN</td>\n",
       "      <td>NaN</td>\n",
       "    </tr>\n",
       "    <tr>\n",
       "      <th>162</th>\n",
       "      <td>163.0</td>\n",
       "      <td>9</td>\n",
       "      <td>Dec</td>\n",
       "      <td>6/15/2022</td>\n",
       "      <td>Sunday</td>\n",
       "      <td>Xiaomi</td>\n",
       "      <td>2</td>\n",
       "      <td>1241040.44</td>\n",
       "      <td>44</td>\n",
       "      <td>Surat</td>\n",
       "      <td>...</td>\n",
       "      <td>NaN</td>\n",
       "      <td>NaN</td>\n",
       "      <td>NaN</td>\n",
       "      <td>NaN</td>\n",
       "      <td>NaN</td>\n",
       "      <td>NaN</td>\n",
       "      <td>NaN</td>\n",
       "      <td>NaN</td>\n",
       "      <td>NaN</td>\n",
       "      <td>NaN</td>\n",
       "    </tr>\n",
       "    <tr>\n",
       "      <th>163</th>\n",
       "      <td>164.0</td>\n",
       "      <td>9</td>\n",
       "      <td>Jan</td>\n",
       "      <td>6/15/2022</td>\n",
       "      <td>Monday</td>\n",
       "      <td>Vivo</td>\n",
       "      <td>8</td>\n",
       "      <td>1248664.60</td>\n",
       "      <td>55</td>\n",
       "      <td>Vadodra</td>\n",
       "      <td>...</td>\n",
       "      <td>NaN</td>\n",
       "      <td>NaN</td>\n",
       "      <td>NaN</td>\n",
       "      <td>NaN</td>\n",
       "      <td>NaN</td>\n",
       "      <td>NaN</td>\n",
       "      <td>NaN</td>\n",
       "      <td>NaN</td>\n",
       "      <td>NaN</td>\n",
       "      <td>NaN</td>\n",
       "    </tr>\n",
       "    <tr>\n",
       "      <th>164</th>\n",
       "      <td>165.0</td>\n",
       "      <td>9</td>\n",
       "      <td>Feb</td>\n",
       "      <td>6/15/2022</td>\n",
       "      <td>Tuesday</td>\n",
       "      <td>Realme</td>\n",
       "      <td>0</td>\n",
       "      <td>1256288.76</td>\n",
       "      <td>66</td>\n",
       "      <td>Gurgaon</td>\n",
       "      <td>...</td>\n",
       "      <td>NaN</td>\n",
       "      <td>NaN</td>\n",
       "      <td>NaN</td>\n",
       "      <td>NaN</td>\n",
       "      <td>NaN</td>\n",
       "      <td>NaN</td>\n",
       "      <td>NaN</td>\n",
       "      <td>NaN</td>\n",
       "      <td>NaN</td>\n",
       "      <td>NaN</td>\n",
       "    </tr>\n",
       "    <tr>\n",
       "      <th>165</th>\n",
       "      <td>166.0</td>\n",
       "      <td>9</td>\n",
       "      <td>Mar</td>\n",
       "      <td>6/15/2022</td>\n",
       "      <td>Wednesday</td>\n",
       "      <td>Oppo</td>\n",
       "      <td>6</td>\n",
       "      <td>1263912.92</td>\n",
       "      <td>76</td>\n",
       "      <td>Shahada</td>\n",
       "      <td>...</td>\n",
       "      <td>NaN</td>\n",
       "      <td>NaN</td>\n",
       "      <td>NaN</td>\n",
       "      <td>NaN</td>\n",
       "      <td>NaN</td>\n",
       "      <td>NaN</td>\n",
       "      <td>NaN</td>\n",
       "      <td>NaN</td>\n",
       "      <td>NaN</td>\n",
       "      <td>NaN</td>\n",
       "    </tr>\n",
       "  </tbody>\n",
       "</table>\n",
       "<p>5 rows × 45 columns</p>\n",
       "</div>"
      ],
      "text/plain": [
       "     Transaction Id  Day Month       Year   Day Name  Brand   Unit sold   \\\n",
       "161           162.0    9   Nov  6/15/2022   Saturday  Iphone           3   \n",
       "162           163.0    9   Dec  6/15/2022     Sunday  Xiaomi           2   \n",
       "163           164.0    9   Jan  6/15/2022     Monday    Vivo           8   \n",
       "164           165.0    9   Feb  6/15/2022    Tuesday  Realme           0   \n",
       "165           166.0    9   Mar  6/15/2022  Wednesday    Oppo           6   \n",
       "\n",
       "     price per unit  Customer age     City  ... Profit Month.1  \\\n",
       "161      1233416.28            23    Thane  ...    NaN     NaN   \n",
       "162      1241040.44            44   Surat   ...    NaN     NaN   \n",
       "163      1248664.60            55  Vadodra  ...    NaN     NaN   \n",
       "164      1256288.76            66  Gurgaon  ...    NaN     NaN   \n",
       "165      1263912.92            76  Shahada  ...    NaN     NaN   \n",
       "\n",
       "     Payment Mode.1 Status Fulfliment  Sales Channel ship service level  \\\n",
       "161             NaN    NaN        NaN            NaN                NaN   \n",
       "162             NaN    NaN        NaN            NaN                NaN   \n",
       "163             NaN    NaN        NaN            NaN                NaN   \n",
       "164             NaN    NaN        NaN            NaN                NaN   \n",
       "165             NaN    NaN        NaN            NaN                NaN   \n",
       "\n",
       "     Currency Amount Date  \n",
       "161       NaN    NaN  NaN  \n",
       "162       NaN    NaN  NaN  \n",
       "163       NaN    NaN  NaN  \n",
       "164       NaN    NaN  NaN  \n",
       "165       NaN    NaN  NaN  \n",
       "\n",
       "[5 rows x 45 columns]"
      ]
     },
     "execution_count": 43,
     "metadata": {},
     "output_type": "execute_result"
    }
   ],
   "source": [
    "df.tail()  #extract last 5 row"
   ]
  },
  {
   "cell_type": "code",
   "execution_count": 44,
   "id": "45c7e28b-7684-43b9-9c13-b50c397de94f",
   "metadata": {},
   "outputs": [
    {
     "data": {
      "text/plain": [
       "(166, 45)"
      ]
     },
     "execution_count": 44,
     "metadata": {},
     "output_type": "execute_result"
    }
   ],
   "source": [
    "df.shape #no.of rows and column"
   ]
  },
  {
   "cell_type": "code",
   "execution_count": 45,
   "id": "674ffc8d-3d1e-4a33-ad49-b6812d69d77c",
   "metadata": {},
   "outputs": [
    {
     "data": {
      "text/plain": [
       "7470"
      ]
     },
     "execution_count": 45,
     "metadata": {},
     "output_type": "execute_result"
    }
   ],
   "source": [
    "df.size\n"
   ]
  },
  {
   "cell_type": "code",
   "execution_count": 46,
   "id": "a094589c-f58e-4b15-83ec-af64c77e8e14",
   "metadata": {},
   "outputs": [
    {
     "name": "stdout",
     "output_type": "stream",
     "text": [
      "<class 'pandas.core.frame.DataFrame'>\n",
      "RangeIndex: 166 entries, 0 to 165\n",
      "Data columns (total 45 columns):\n",
      " #   Column              Non-Null Count  Dtype  \n",
      "---  ------              --------------  -----  \n",
      " 0   Transaction Id      165 non-null    float64\n",
      " 1   Day                 166 non-null    int64  \n",
      " 2   Month               166 non-null    object \n",
      " 3   Year                166 non-null    object \n",
      " 4   Day Name            166 non-null    object \n",
      " 5   Brand               166 non-null    object \n",
      " 6   Unit sold           166 non-null    int64  \n",
      " 7   price per unit      166 non-null    float64\n",
      " 8   Customer age        166 non-null    int64  \n",
      " 9   City                166 non-null    object \n",
      " 10  Category            166 non-null    object \n",
      " 11  Payment Mode        166 non-null    object \n",
      " 12  Customer Rating     166 non-null    int64  \n",
      " 13  Mobile Model        166 non-null    object \n",
      " 14  Size                166 non-null    object \n",
      " 15  Row ID              29 non-null     float64\n",
      " 16  Order ID            29 non-null     object \n",
      " 17  Order Date          29 non-null     object \n",
      " 18  Ship Date           29 non-null     object \n",
      " 19  Ship Mode           29 non-null     object \n",
      " 20  Customer ID         29 non-null     object \n",
      " 21  Customer Name       29 non-null     object \n",
      " 22  Segment             29 non-null     object \n",
      " 23  Country             29 non-null     object \n",
      " 24  City.1              29 non-null     object \n",
      " 25  State               29 non-null     object \n",
      " 26  Postal Code         29 non-null     float64\n",
      " 27  Region              29 non-null     object \n",
      " 28  Product ID          29 non-null     object \n",
      " 29  Category.1          29 non-null     object \n",
      " 30  Sub-Category        29 non-null     object \n",
      " 31  Product Name        29 non-null     object \n",
      " 32  Sales               29 non-null     float64\n",
      " 33  Quantity            29 non-null     float64\n",
      " 34  Discount            29 non-null     float64\n",
      " 35  Profit              29 non-null     float64\n",
      " 36  Month.1             29 non-null     object \n",
      " 37  Payment Mode.1      29 non-null     object \n",
      " 38  Status              29 non-null     object \n",
      " 39  Fulfliment          29 non-null     object \n",
      " 40  Sales Channel       29 non-null     object \n",
      " 41  ship service level  29 non-null     object \n",
      " 42   Currency           29 non-null     object \n",
      " 43  Amount              29 non-null     float64\n",
      " 44  Date                29 non-null     object \n",
      "dtypes: float64(9), int64(4), object(32)\n",
      "memory usage: 58.5+ KB\n"
     ]
    }
   ],
   "source": [
    "df.info() #print a concise summary of a dataframe"
   ]
  },
  {
   "cell_type": "code",
   "execution_count": 47,
   "id": "4e26b42b-3b73-44ad-9ef3-1b4c17d1e0bc",
   "metadata": {},
   "outputs": [
    {
     "data": {
      "text/plain": [
       "Index(['Transaction Id', 'Day', 'Month', 'Year', 'Day Name', 'Brand ',\n",
       "       'Unit sold ', 'price per unit', 'Customer age', 'City', 'Category',\n",
       "       'Payment Mode', 'Customer Rating', 'Mobile Model', 'Size', 'Row ID',\n",
       "       'Order ID', 'Order Date', 'Ship Date', 'Ship Mode', 'Customer ID',\n",
       "       'Customer Name', 'Segment', 'Country', 'City.1', 'State', 'Postal Code',\n",
       "       'Region', 'Product ID', 'Category.1', 'Sub-Category', 'Product Name',\n",
       "       'Sales', 'Quantity', 'Discount', 'Profit', 'Month.1', 'Payment Mode.1',\n",
       "       'Status', 'Fulfliment', 'Sales Channel', 'ship service level',\n",
       "       ' Currency', 'Amount', 'Date'],\n",
       "      dtype='object')"
      ]
     },
     "execution_count": 47,
     "metadata": {},
     "output_type": "execute_result"
    }
   ],
   "source": [
    "df.columns"
   ]
  },
  {
   "cell_type": "code",
   "execution_count": 48,
   "id": "654cf6ff-ebe8-4e04-a635-4c2789584d23",
   "metadata": {},
   "outputs": [
    {
     "data": {
      "text/plain": [
       "<bound method DataFrame.sum of      Transaction Id    Day  Month   Year  Day Name  Brand   Unit sold   \\\n",
       "0             False  False  False  False     False   False       False   \n",
       "1             False  False  False  False     False   False       False   \n",
       "2             False  False  False  False     False   False       False   \n",
       "3             False  False  False  False     False   False       False   \n",
       "4             False  False  False  False     False   False       False   \n",
       "..              ...    ...    ...    ...       ...     ...         ...   \n",
       "161           False  False  False  False     False   False       False   \n",
       "162           False  False  False  False     False   False       False   \n",
       "163           False  False  False  False     False   False       False   \n",
       "164           False  False  False  False     False   False       False   \n",
       "165           False  False  False  False     False   False       False   \n",
       "\n",
       "     price per unit  Customer age   City  ...  Profit  Month.1  \\\n",
       "0             False         False  False  ...   False    False   \n",
       "1             False         False  False  ...   False    False   \n",
       "2             False         False  False  ...   False    False   \n",
       "3             False         False  False  ...   False    False   \n",
       "4             False         False  False  ...   False    False   \n",
       "..              ...           ...    ...  ...     ...      ...   \n",
       "161           False         False  False  ...    True     True   \n",
       "162           False         False  False  ...    True     True   \n",
       "163           False         False  False  ...    True     True   \n",
       "164           False         False  False  ...    True     True   \n",
       "165           False         False  False  ...    True     True   \n",
       "\n",
       "     Payment Mode.1  Status  Fulfliment  Sales Channel  ship service level  \\\n",
       "0             False   False       False          False               False   \n",
       "1             False   False       False          False               False   \n",
       "2             False   False       False          False               False   \n",
       "3             False   False       False          False               False   \n",
       "4             False   False       False          False               False   \n",
       "..              ...     ...         ...            ...                 ...   \n",
       "161            True    True        True           True                True   \n",
       "162            True    True        True           True                True   \n",
       "163            True    True        True           True                True   \n",
       "164            True    True        True           True                True   \n",
       "165            True    True        True           True                True   \n",
       "\n",
       "      Currency  Amount   Date  \n",
       "0        False   False  False  \n",
       "1        False   False  False  \n",
       "2        False   False  False  \n",
       "3        False   False  False  \n",
       "4        False   False  False  \n",
       "..         ...     ...    ...  \n",
       "161       True    True   True  \n",
       "162       True    True   True  \n",
       "163       True    True   True  \n",
       "164       True    True   True  \n",
       "165       True    True   True  \n",
       "\n",
       "[166 rows x 45 columns]>"
      ]
     },
     "execution_count": 48,
     "metadata": {},
     "output_type": "execute_result"
    }
   ],
   "source": [
    "df.isnull().sum"
   ]
  },
  {
   "cell_type": "markdown",
   "id": "2fbfc832-d9f0-4786-806c-9b24f1ba7d6b",
   "metadata": {},
   "source": [
    "### deleted unrealted columns"
   ]
  },
  {
   "cell_type": "code",
   "execution_count": 49,
   "id": "60f810c1-20a7-4506-b049-b016f69191ca",
   "metadata": {},
   "outputs": [
    {
     "data": {
      "text/plain": [
       "(166, 45)"
      ]
     },
     "execution_count": 49,
     "metadata": {},
     "output_type": "execute_result"
    }
   ],
   "source": [
    "df.shape"
   ]
  },
  {
   "cell_type": "code",
   "execution_count": 50,
   "id": "e8f8bdba-b611-4208-b48c-0fca9cc87881",
   "metadata": {},
   "outputs": [
    {
     "data": {
      "text/plain": [
       "array([ 4.1913600e+01,  2.1958200e+02,  6.8714000e+00, -3.8303100e+02,\n",
       "        2.5164000e+00,  1.4169400e+01,  1.9656000e+00,  9.0715200e+01,\n",
       "        5.7825000e+00,  3.4470000e+01,  8.5309200e+01,  6.8356800e+01,\n",
       "        5.4432000e+00,  1.3259220e+02, -1.2385800e+02, -3.8160000e+00,\n",
       "        1.3317600e+01,  9.9900000e+00,  2.4824000e+00,  1.6011000e+01,\n",
       "        7.3840000e+00,  5.0596000e+00,  1.5688400e+01, -1.0196000e+00,\n",
       "        2.4026490e+02,  4.2224000e+00,  1.1774100e+01, -1.6650522e+03,\n",
       "       -7.0532000e+00,            nan])"
      ]
     },
     "execution_count": 50,
     "metadata": {},
     "output_type": "execute_result"
    }
   ],
   "source": [
    "df['Profit'].unique()"
   ]
  },
  {
   "cell_type": "code",
   "execution_count": null,
   "id": "7a2091a3-53c0-49ce-bfa0-0ac71c0fd851",
   "metadata": {},
   "outputs": [],
   "source": [
    "df.drop(columns=['Discount','Row ID'],inplace=True)\n"
   ]
  },
  {
   "cell_type": "code",
   "execution_count": 53,
   "id": "8af90ffd-f461-4279-a12a-f2daa4d7d870",
   "metadata": {},
   "outputs": [
    {
     "data": {
      "text/plain": [
       "array(['Mumbai', 'Pune', 'Chennai', 'delli', 'Nashik', 'Sambajinagar',\n",
       "       'Nandurbar', 'Dhule', 'Shirpur', 'Thane', 'Surat ', 'Vadodra',\n",
       "       'Gurgaon', 'Shahada', 'pimpri', 'chinchwad', 'Hyderabad',\n",
       "       'Kolkata', 'Sangamner'], dtype=object)"
      ]
     },
     "execution_count": 53,
     "metadata": {},
     "output_type": "execute_result"
    }
   ],
   "source": [
    "df['City'].unique() "
   ]
  },
  {
   "cell_type": "code",
   "execution_count": 54,
   "id": "150a5cd8-c09a-4b8e-9999-95c318d3714c",
   "metadata": {},
   "outputs": [
    {
     "data": {
      "text/plain": [
       "array(['Second Class', 'Standard Class', nan], dtype=object)"
      ]
     },
     "execution_count": 54,
     "metadata": {},
     "output_type": "execute_result"
    }
   ],
   "source": [
    "df['Ship Mode'].unique()"
   ]
  },
  {
   "cell_type": "code",
   "execution_count": 55,
   "id": "89baaf78-8211-45b3-a7fa-8be897815db6",
   "metadata": {},
   "outputs": [
    {
     "data": {
      "text/plain": [
       "(166, 43)"
      ]
     },
     "execution_count": 55,
     "metadata": {},
     "output_type": "execute_result"
    }
   ],
   "source": [
    "df.shape"
   ]
  },
  {
   "cell_type": "markdown",
   "id": "06cda8b2-e329-4607-8231-661c7360a15e",
   "metadata": {},
   "source": [
    "# Use imputation technique to replace null values"
   ]
  },
  {
   "cell_type": "markdown",
   "id": "7eb18401-8b25-462d-b1b8-1993cb324d54",
   "metadata": {},
   "source": [
    "1.meanimputation technique: when we have numerical data then mean imutation techique is used.\n",
    "\n",
    "2.mode imputation : when we have categorical data then imputation technique  is use. "
   ]
  },
  {
   "cell_type": "markdown",
   "id": "a931dbff-bb96-4872-8f44-164a95fa0f46",
   "metadata": {},
   "source": [
    "Mean Imputation Techniique"
   ]
  },
  {
   "cell_type": "code",
   "execution_count": null,
   "id": "0f6bf632-6862-4247-8947-bd7476496a11",
   "metadata": {},
   "outputs": [],
   "source": [
    "df['Amount'].fillna(df['Amount'].mean(),inplace=True)"
   ]
  },
  {
   "cell_type": "code",
   "execution_count": null,
   "id": "8a070c56-61f9-417b-af14-5df75bd2bf89",
   "metadata": {},
   "outputs": [],
   "source": [
    "df['Ship'].fillna(df['Ship'].mean(),inplace=True)"
   ]
  },
  {
   "cell_type": "code",
   "execution_count": null,
   "id": "76dfbe26-6525-4e03-a6a9-4ff6a5880b9f",
   "metadata": {},
   "outputs": [],
   "source": [
    "df['Ship'].fillna(df['Ship'].mean(),inplace=True)"
   ]
  },
  {
   "cell_type": "markdown",
   "id": "834c8406-ac4b-4492-827c-b32f038246b7",
   "metadata": {},
   "source": [
    "Mode Imputation Technique"
   ]
  },
  {
   "cell_type": "code",
   "execution_count": null,
   "id": "f2484ae9-538a-413c-9046-c904f420b69b",
   "metadata": {},
   "outputs": [],
   "source": [
    "df.columns\n"
   ]
  },
  {
   "cell_type": "code",
   "execution_count": null,
   "id": "e3857f7d-6e11-4645-8585-5a22a90cbb7c",
   "metadata": {},
   "outputs": [],
   "source": [
    "df.dtypes\n"
   ]
  },
  {
   "cell_type": "code",
   "execution_count": null,
   "id": "bbbc7255-c355-4b0f-8d83-a86d32164d08",
   "metadata": {},
   "outputs": [],
   "source": [
    "df.isnull().sum()"
   ]
  },
  {
   "cell_type": "code",
   "execution_count": null,
   "id": "3fe2fc46-12c9-4383-8852-1e32824b329a",
   "metadata": {},
   "outputs": [],
   "source": [
    "0-0"
   ]
  },
  {
   "cell_type": "code",
   "execution_count": null,
   "id": "669e76e0-d802-4972-a79f-722f681df6f6",
   "metadata": {},
   "outputs": [],
   "source": [
    "df['Payment Mode '].fillna(df['Payment Mode '].mean(),inplace=True)"
   ]
  },
  {
   "cell_type": "code",
   "execution_count": null,
   "id": "245e6096-0c8b-4ac8-b732-b8a8e7809d98",
   "metadata": {},
   "outputs": [],
   "source": [
    "df['Postal Code'].isnull().sum()"
   ]
  },
  {
   "cell_type": "code",
   "execution_count": null,
   "id": "721c01ce-8dfa-432c-a632-a97ad1c26828",
   "metadata": {},
   "outputs": [],
   "source": [
    "df = pd.read_csv(r\"C:\\Users\\jaymi\\Downloads\\mobile sale.csv\")"
   ]
  },
  {
   "cell_type": "code",
   "execution_count": null,
   "id": "62f9e661-59f1-4c48-9a1a-da28e32fc054",
   "metadata": {},
   "outputs": [],
   "source": [
    "df = pd.read_csv(r\"C:\\Users\\jaymi\\Downloads\\Sales-Dashboard.csv\")"
   ]
  },
  {
   "cell_type": "code",
   "execution_count": null,
   "id": "8e69b15d-066e-4451-a677-1e6e9d651995",
   "metadata": {},
   "outputs": [],
   "source": [
    "df.head()"
   ]
  },
  {
   "cell_type": "code",
   "execution_count": null,
   "id": "2b526ee9-4d24-408c-a146-8fb1c230172c",
   "metadata": {},
   "outputs": [],
   "source": [
    "df.isnull().sum()"
   ]
  },
  {
   "cell_type": "code",
   "execution_count": null,
   "id": "3d701f8b-5b89-49a4-a89d-876b98feb286",
   "metadata": {},
   "outputs": [],
   "source": [
    "df = pd.read_csv(r\"C:\\Users\\jaymi\\Downloads\\mobile sale.csv\")"
   ]
  },
  {
   "cell_type": "code",
   "execution_count": null,
   "id": "3d7fd8cd-9df9-4dbe-967f-b4aa2134cbf0",
   "metadata": {},
   "outputs": [],
   "source": [
    "df.head()"
   ]
  },
  {
   "cell_type": "code",
   "execution_count": null,
   "id": "87512408-e757-488c-b1f2-a230a44da827",
   "metadata": {},
   "outputs": [],
   "source": [
    "df.columns"
   ]
  },
  {
   "cell_type": "code",
   "execution_count": null,
   "id": "072add07-2c98-40d2-be30-a6cbfe420d5c",
   "metadata": {},
   "outputs": [],
   "source": []
  },
  {
   "cell_type": "code",
   "execution_count": 56,
   "id": "538093e1-d29f-44c1-8aba-888439c059b4",
   "metadata": {
    "scrolled": true
   },
   "outputs": [
    {
     "data": {
      "text/plain": [
       "Transaction Id        float64\n",
       "Day                     int64\n",
       "Month                  object\n",
       "Year                   object\n",
       "Day Name               object\n",
       "Brand                  object\n",
       "Unit sold               int64\n",
       "price per unit        float64\n",
       "Customer age            int64\n",
       "City                   object\n",
       "Category               object\n",
       "Payment Mode           object\n",
       "Customer Rating         int64\n",
       "Mobile Model           object\n",
       "Size                   object\n",
       "Order ID               object\n",
       "Order Date             object\n",
       "Ship Date              object\n",
       "Ship Mode              object\n",
       "Customer ID            object\n",
       "Customer Name          object\n",
       "Segment                object\n",
       "Country                object\n",
       "City.1                 object\n",
       "State                  object\n",
       "Postal Code           float64\n",
       "Region                 object\n",
       "Product ID             object\n",
       "Category.1             object\n",
       "Sub-Category           object\n",
       "Product Name           object\n",
       "Sales                 float64\n",
       "Quantity              float64\n",
       "Profit                float64\n",
       "Month.1                object\n",
       "Payment Mode.1         object\n",
       "Status                 object\n",
       "Fulfliment             object\n",
       "Sales Channel          object\n",
       "ship service level     object\n",
       " Currency              object\n",
       "Amount                float64\n",
       "Date                   object\n",
       "dtype: object"
      ]
     },
     "execution_count": 56,
     "metadata": {},
     "output_type": "execute_result"
    }
   ],
   "source": [
    "df.dtypes"
   ]
  },
  {
   "cell_type": "markdown",
   "id": "f8271a8b-f53c-4f66-a402-db4a35464709",
   "metadata": {},
   "source": [
    "# Change Datatypes according t0 requirment"
   ]
  },
  {
   "cell_type": "code",
   "execution_count": null,
   "id": "6849be07-c155-47fd-98e7-35fc23edca81",
   "metadata": {},
   "outputs": [],
   "source": [
    "df['Postal Code']=df['Postal Code'].astype(int)"
   ]
  },
  {
   "cell_type": "code",
   "execution_count": null,
   "id": "7a3439cf-32ef-466f-8429-3d4c0d440309",
   "metadata": {},
   "outputs": [],
   "source": [
    "a=10.0"
   ]
  },
  {
   "cell_type": "code",
   "execution_count": null,
   "id": "9f5070dd-781d-46c0-802d-c8febf78bfd9",
   "metadata": {},
   "outputs": [],
   "source": [
    "print(type(a))"
   ]
  },
  {
   "cell_type": "markdown",
   "id": "59d7ec22-6c77-4304-9633-c142e188c021",
   "metadata": {},
   "source": [
    "# Eda (exporatory Data Analysis)"
   ]
  },
  {
   "cell_type": "code",
   "execution_count": null,
   "id": "dd4466a8-a1c5-46e1-98b5-b78783b8d251",
   "metadata": {},
   "outputs": [],
   "source": [
    "df['Date']=pd.to_datetime(df['Date'])"
   ]
  },
  {
   "cell_type": "code",
   "execution_count": null,
   "id": "73c0d746-2466-4d9f-baee-3b10377a97a4",
   "metadata": {},
   "outputs": [],
   "source": [
    "df.head"
   ]
  },
  {
   "cell_type": "code",
   "execution_count": 33,
   "id": "7250e0b8-d48b-44b3-bb3b-ede73e19b450",
   "metadata": {},
   "outputs": [
    {
     "data": {
      "text/plain": [
       "Transaction Id        float64\n",
       "Day                     int64\n",
       "Month                  object\n",
       "Year                   object\n",
       "Day Name               object\n",
       "Brand                  object\n",
       "Unit sold               int64\n",
       "price per unit        float64\n",
       "Customer age            int64\n",
       "City                   object\n",
       "Category               object\n",
       "Payment Mode           object\n",
       "Customer Rating         int64\n",
       "Mobile Model           object\n",
       "Size                   object\n",
       "Row ID                float64\n",
       "Order ID               object\n",
       "Order Date             object\n",
       "Ship Date              object\n",
       "Ship Mode              object\n",
       "Customer ID            object\n",
       "Customer Name          object\n",
       "Segment                object\n",
       "Country                object\n",
       "City.1                 object\n",
       "State                  object\n",
       "Postal Code           float64\n",
       "Region                 object\n",
       "Product ID             object\n",
       "Category.1             object\n",
       "Sub-Category           object\n",
       "Product Name           object\n",
       "Sales                 float64\n",
       "Quantity              float64\n",
       "Discount              float64\n",
       "Profit                float64\n",
       "Month.1                object\n",
       "Payment Mode.1         object\n",
       "Status                 object\n",
       "Fulfliment             object\n",
       "Sales Channel          object\n",
       "ship service level     object\n",
       " Currency              object\n",
       "Amount                float64\n",
       "Date                   object\n",
       "dtype: object"
      ]
     },
     "execution_count": 33,
     "metadata": {},
     "output_type": "execute_result"
    }
   ],
   "source": [
    "df.dtypes"
   ]
  },
  {
   "cell_type": "code",
   "execution_count": 8,
   "id": "22ed3726-67d6-46ae-b753-8c32dce9824b",
   "metadata": {},
   "outputs": [],
   "source": [
    "df = pd.read_csv(r\"C:\\Users\\jaymi\\Downloads\\New Amazon.in (1).csv\")"
   ]
  },
  {
   "cell_type": "code",
   "execution_count": 9,
   "id": "2eaed606-32a5-4de3-9e7e-d06dc9e1e37f",
   "metadata": {},
   "outputs": [
    {
     "data": {
      "text/plain": [
       "<bound method NDFrame.head of      Transaction Id  Day Month       Year   Day Name  Brand   Unit sold   \\\n",
       "0               1.0    9   Jan  6/15/2016        Sat  Xiaomi           6   \n",
       "1               2.0    9  Feb   6/15/2016     Sunday    Vivo           5   \n",
       "2               3.0    9   Mar  6/15/2016     Monday  Realme           7   \n",
       "3               4.0    9   May  6/15/2016    Tuesday    Oppo           8   \n",
       "4               5.0    9  june  6/15/2016  Wednesday    Poco           9   \n",
       "..              ...  ...   ...        ...        ...     ...         ...   \n",
       "161           162.0    9   Nov  6/15/2022   Saturday  Iphone           3   \n",
       "162           163.0    9   Dec  6/15/2022     Sunday  Xiaomi           2   \n",
       "163           164.0    9   Jan  6/15/2022     Monday    Vivo           8   \n",
       "164           165.0    9   Feb  6/15/2022    Tuesday  Realme           0   \n",
       "165           166.0    9   Mar  6/15/2022  Wednesday    Oppo           6   \n",
       "\n",
       "     price per unit  Customer age     City  ...    Profit Month.1  \\\n",
       "0          10163.40            22   Mumbai  ...   41.9136     Jan   \n",
       "1          10721.20            23     Pune  ...  219.5820    Feb    \n",
       "2          20123.20            44  Chennai  ...    6.8714     Mar   \n",
       "3          22443.20            55    delli  ... -383.0310     May   \n",
       "4          42423.20            66   Nashik  ...    2.5164    june   \n",
       "..              ...           ...      ...  ...       ...     ...   \n",
       "161      1233416.28            23    Thane  ...       NaN     NaN   \n",
       "162      1241040.44            44   Surat   ...       NaN     NaN   \n",
       "163      1248664.60            55  Vadodra  ...       NaN     NaN   \n",
       "164      1256288.76            66  Gurgaon  ...       NaN     NaN   \n",
       "165      1263912.92            76  Shahada  ...       NaN     NaN   \n",
       "\n",
       "     Payment Mode.1     Status Fulfliment  Sales Channel ship service level  \\\n",
       "0            online  Cancelled   Merchant      Amazon.in           Standard   \n",
       "1           offline    Shipped     Amazon      Amazon.in          Expedited   \n",
       "2            online  Delivered   Merchant      Amazon.in           Standard   \n",
       "3           offline  Cancelled     Amazon      Amazon.in          Expedited   \n",
       "4            online    Shipped   Merchant      Amazon.in           Standard   \n",
       "..              ...        ...        ...            ...                ...   \n",
       "161             NaN        NaN        NaN            NaN                NaN   \n",
       "162             NaN        NaN        NaN            NaN                NaN   \n",
       "163             NaN        NaN        NaN            NaN                NaN   \n",
       "164             NaN        NaN        NaN            NaN                NaN   \n",
       "165             NaN        NaN        NaN            NaN                NaN   \n",
       "\n",
       "     Currency  Amount       Date  \n",
       "0         INR   500.0  20/2/2025  \n",
       "1         INR   700.0  20/2/2026  \n",
       "2         INR  3000.0  20/2/2027  \n",
       "3         INR  3900.0  20/2/2028  \n",
       "4         INR  5150.0  20/2/2029  \n",
       "..        ...     ...        ...  \n",
       "161       NaN     NaN        NaN  \n",
       "162       NaN     NaN        NaN  \n",
       "163       NaN     NaN        NaN  \n",
       "164       NaN     NaN        NaN  \n",
       "165       NaN     NaN        NaN  \n",
       "\n",
       "[166 rows x 45 columns]>"
      ]
     },
     "execution_count": 9,
     "metadata": {},
     "output_type": "execute_result"
    }
   ],
   "source": [
    "df.head"
   ]
  },
  {
   "cell_type": "code",
   "execution_count": 10,
   "id": "a81fadaa-2a3f-4513-965e-9a9d2543d021",
   "metadata": {},
   "outputs": [
    {
     "data": {
      "text/html": [
       "<div>\n",
       "<style scoped>\n",
       "    .dataframe tbody tr th:only-of-type {\n",
       "        vertical-align: middle;\n",
       "    }\n",
       "\n",
       "    .dataframe tbody tr th {\n",
       "        vertical-align: top;\n",
       "    }\n",
       "\n",
       "    .dataframe thead th {\n",
       "        text-align: right;\n",
       "    }\n",
       "</style>\n",
       "<table border=\"1\" class=\"dataframe\">\n",
       "  <thead>\n",
       "    <tr style=\"text-align: right;\">\n",
       "      <th></th>\n",
       "      <th>Transaction Id</th>\n",
       "      <th>Day</th>\n",
       "      <th>Month</th>\n",
       "      <th>Year</th>\n",
       "      <th>Day Name</th>\n",
       "      <th>Brand</th>\n",
       "      <th>Unit sold</th>\n",
       "      <th>price per unit</th>\n",
       "      <th>Customer age</th>\n",
       "      <th>City</th>\n",
       "      <th>...</th>\n",
       "      <th>Profit</th>\n",
       "      <th>Month.1</th>\n",
       "      <th>Payment Mode.1</th>\n",
       "      <th>Status</th>\n",
       "      <th>Fulfliment</th>\n",
       "      <th>Sales Channel</th>\n",
       "      <th>ship service level</th>\n",
       "      <th>Currency</th>\n",
       "      <th>Amount</th>\n",
       "      <th>Date</th>\n",
       "    </tr>\n",
       "  </thead>\n",
       "  <tbody>\n",
       "    <tr>\n",
       "      <th>0</th>\n",
       "      <td>1.0</td>\n",
       "      <td>9</td>\n",
       "      <td>Jan</td>\n",
       "      <td>6/15/2016</td>\n",
       "      <td>Sat</td>\n",
       "      <td>Xiaomi</td>\n",
       "      <td>6</td>\n",
       "      <td>10163.4</td>\n",
       "      <td>22</td>\n",
       "      <td>Mumbai</td>\n",
       "      <td>...</td>\n",
       "      <td>41.9136</td>\n",
       "      <td>Jan</td>\n",
       "      <td>online</td>\n",
       "      <td>Cancelled</td>\n",
       "      <td>Merchant</td>\n",
       "      <td>Amazon.in</td>\n",
       "      <td>Standard</td>\n",
       "      <td>INR</td>\n",
       "      <td>500.0</td>\n",
       "      <td>20/2/2025</td>\n",
       "    </tr>\n",
       "    <tr>\n",
       "      <th>1</th>\n",
       "      <td>2.0</td>\n",
       "      <td>9</td>\n",
       "      <td>Feb</td>\n",
       "      <td>6/15/2016</td>\n",
       "      <td>Sunday</td>\n",
       "      <td>Vivo</td>\n",
       "      <td>5</td>\n",
       "      <td>10721.2</td>\n",
       "      <td>23</td>\n",
       "      <td>Pune</td>\n",
       "      <td>...</td>\n",
       "      <td>219.5820</td>\n",
       "      <td>Feb</td>\n",
       "      <td>offline</td>\n",
       "      <td>Shipped</td>\n",
       "      <td>Amazon</td>\n",
       "      <td>Amazon.in</td>\n",
       "      <td>Expedited</td>\n",
       "      <td>INR</td>\n",
       "      <td>700.0</td>\n",
       "      <td>20/2/2026</td>\n",
       "    </tr>\n",
       "    <tr>\n",
       "      <th>2</th>\n",
       "      <td>3.0</td>\n",
       "      <td>9</td>\n",
       "      <td>Mar</td>\n",
       "      <td>6/15/2016</td>\n",
       "      <td>Monday</td>\n",
       "      <td>Realme</td>\n",
       "      <td>7</td>\n",
       "      <td>20123.2</td>\n",
       "      <td>44</td>\n",
       "      <td>Chennai</td>\n",
       "      <td>...</td>\n",
       "      <td>6.8714</td>\n",
       "      <td>Mar</td>\n",
       "      <td>online</td>\n",
       "      <td>Delivered</td>\n",
       "      <td>Merchant</td>\n",
       "      <td>Amazon.in</td>\n",
       "      <td>Standard</td>\n",
       "      <td>INR</td>\n",
       "      <td>3000.0</td>\n",
       "      <td>20/2/2027</td>\n",
       "    </tr>\n",
       "    <tr>\n",
       "      <th>3</th>\n",
       "      <td>4.0</td>\n",
       "      <td>9</td>\n",
       "      <td>May</td>\n",
       "      <td>6/15/2016</td>\n",
       "      <td>Tuesday</td>\n",
       "      <td>Oppo</td>\n",
       "      <td>8</td>\n",
       "      <td>22443.2</td>\n",
       "      <td>55</td>\n",
       "      <td>delli</td>\n",
       "      <td>...</td>\n",
       "      <td>-383.0310</td>\n",
       "      <td>May</td>\n",
       "      <td>offline</td>\n",
       "      <td>Cancelled</td>\n",
       "      <td>Amazon</td>\n",
       "      <td>Amazon.in</td>\n",
       "      <td>Expedited</td>\n",
       "      <td>INR</td>\n",
       "      <td>3900.0</td>\n",
       "      <td>20/2/2028</td>\n",
       "    </tr>\n",
       "    <tr>\n",
       "      <th>4</th>\n",
       "      <td>5.0</td>\n",
       "      <td>9</td>\n",
       "      <td>june</td>\n",
       "      <td>6/15/2016</td>\n",
       "      <td>Wednesday</td>\n",
       "      <td>Poco</td>\n",
       "      <td>9</td>\n",
       "      <td>42423.2</td>\n",
       "      <td>66</td>\n",
       "      <td>Nashik</td>\n",
       "      <td>...</td>\n",
       "      <td>2.5164</td>\n",
       "      <td>june</td>\n",
       "      <td>online</td>\n",
       "      <td>Shipped</td>\n",
       "      <td>Merchant</td>\n",
       "      <td>Amazon.in</td>\n",
       "      <td>Standard</td>\n",
       "      <td>INR</td>\n",
       "      <td>5150.0</td>\n",
       "      <td>20/2/2029</td>\n",
       "    </tr>\n",
       "  </tbody>\n",
       "</table>\n",
       "<p>5 rows × 45 columns</p>\n",
       "</div>"
      ],
      "text/plain": [
       "   Transaction Id  Day Month       Year   Day Name  Brand   Unit sold   \\\n",
       "0             1.0    9   Jan  6/15/2016        Sat  Xiaomi           6   \n",
       "1             2.0    9  Feb   6/15/2016     Sunday    Vivo           5   \n",
       "2             3.0    9   Mar  6/15/2016     Monday  Realme           7   \n",
       "3             4.0    9   May  6/15/2016    Tuesday    Oppo           8   \n",
       "4             5.0    9  june  6/15/2016  Wednesday    Poco           9   \n",
       "\n",
       "   price per unit  Customer age     City  ...    Profit Month.1  \\\n",
       "0         10163.4            22   Mumbai  ...   41.9136     Jan   \n",
       "1         10721.2            23     Pune  ...  219.5820    Feb    \n",
       "2         20123.2            44  Chennai  ...    6.8714     Mar   \n",
       "3         22443.2            55    delli  ... -383.0310     May   \n",
       "4         42423.2            66   Nashik  ...    2.5164    june   \n",
       "\n",
       "   Payment Mode.1     Status Fulfliment  Sales Channel ship service level  \\\n",
       "0          online  Cancelled   Merchant      Amazon.in           Standard   \n",
       "1         offline    Shipped     Amazon      Amazon.in          Expedited   \n",
       "2          online  Delivered   Merchant      Amazon.in           Standard   \n",
       "3         offline  Cancelled     Amazon      Amazon.in          Expedited   \n",
       "4          online    Shipped   Merchant      Amazon.in           Standard   \n",
       "\n",
       "   Currency  Amount       Date  \n",
       "0       INR   500.0  20/2/2025  \n",
       "1       INR   700.0  20/2/2026  \n",
       "2       INR  3000.0  20/2/2027  \n",
       "3       INR  3900.0  20/2/2028  \n",
       "4       INR  5150.0  20/2/2029  \n",
       "\n",
       "[5 rows x 45 columns]"
      ]
     },
     "execution_count": 10,
     "metadata": {},
     "output_type": "execute_result"
    }
   ],
   "source": [
    "df.head()"
   ]
  },
  {
   "cell_type": "code",
   "execution_count": 11,
   "id": "57981f4a-a221-4dd4-a4e9-f3c1d492b33a",
   "metadata": {},
   "outputs": [
    {
     "data": {
      "text/plain": [
       "<Axes: xlabel='Size', ylabel='count'>"
      ]
     },
     "execution_count": 11,
     "metadata": {},
     "output_type": "execute_result"
    },
    {
     "data": {
      "image/png": "[encoded data removed]",
      "text/plain": [
       "<Figure size 640x480 with 1 Axes>"
      ]
     },
     "metadata": {},
     "output_type": "display_data"
    }
   ],
   "source": [
    "sns.countplot(data=df,x='Size')"
   ]
  },
  {
   "cell_type": "markdown",
   "id": "48dacb71-5b43-402a-92ea-29479428e0ee",
   "metadata": {},
   "source": [
    "Most oF pepole buy the products of  'm' size"
   ]
  },
  {
   "cell_type": "markdown",
   "id": "ac459f84-f066-4cf5-9c0a-5c832907308a",
   "metadata": {},
   "source": [
    "# Group By data Based on Size and Quantity"
   ]
  },
  {
   "cell_type": "code",
   "execution_count": 12,
   "id": "e72b210e-4a13-48c1-bd24-d71fed954fc8",
   "metadata": {},
   "outputs": [
    {
     "data": {
      "text/plain": [
       "Index(['Transaction Id', 'Day', 'Month', 'Year', 'Day Name', 'Brand ',\n",
       "       'Unit sold ', 'price per unit', 'Customer age', 'City', 'Category',\n",
       "       'Payment Mode', 'Customer Rating', 'Mobile Model', 'Size', 'Row ID',\n",
       "       'Order ID', 'Order Date', 'Ship Date', 'Ship Mode', 'Customer ID',\n",
       "       'Customer Name', 'Segment', 'Country', 'City.1', 'State', 'Postal Code',\n",
       "       'Region', 'Product ID', 'Category.1', 'Sub-Category', 'Product Name',\n",
       "       'Sales', 'Quantity', 'Discount', 'Profit', 'Month.1', 'Payment Mode.1',\n",
       "       'Status', 'Fulfliment', 'Sales Channel', 'ship service level',\n",
       "       ' Currency', 'Amount', 'Date'],\n",
       "      dtype='object')"
      ]
     },
     "execution_count": 12,
     "metadata": {},
     "output_type": "execute_result"
    }
   ],
   "source": [
    "df.columns"
   ]
  },
  {
   "cell_type": "code",
   "execution_count": 31,
   "id": "c637b826-2280-4678-918b-2640b67991e3",
   "metadata": {},
   "outputs": [
    {
     "ename": "AttributeError",
     "evalue": "'Axes' object has no attribute 'bar_lable'",
     "output_type": "error",
     "traceback": [
      "\u001b[1;31m---------------------------------------------------------------------------\u001b[0m",
      "\u001b[1;31mAttributeError\u001b[0m                            Traceback (most recent call last)",
      "Cell \u001b[1;32mIn[31], line 3\u001b[0m\n\u001b[0;32m      1\u001b[0m a\u001b[38;5;241m=\u001b[39msns\u001b[38;5;241m.\u001b[39mcountplot(data\u001b[38;5;241m=\u001b[39mdf,x\u001b[38;5;241m=\u001b[39m\u001b[38;5;124m'\u001b[39m\u001b[38;5;124mStatus\u001b[39m\u001b[38;5;124m'\u001b[39m)\n\u001b[0;32m      2\u001b[0m \u001b[38;5;28;01mfor\u001b[39;00m i \u001b[38;5;129;01min\u001b[39;00m a\u001b[38;5;241m.\u001b[39mcontainers:\n\u001b[1;32m----> 3\u001b[0m     a\u001b[38;5;241m.\u001b[39mbar_lable(i)\n",
      "\u001b[1;31mAttributeError\u001b[0m: 'Axes' object has no attribute 'bar_lable'"
     ]
    },
    {
     "data": {
      "image/png": "[encoded data removed]",
      "text/plain": [
       "<Figure size 640x480 with 1 Axes>"
      ]
     },
     "metadata": {},
     "output_type": "display_data"
    }
   ],
   "source": [
    "a=sns.countplot(data=df,x='Status')\n",
    "for i in a.containers:\n",
    "    a.bar_lable(i)"
   ]
  },
  {
   "cell_type": "markdown",
   "id": "2ffa2190-3eab-4491-8c57-59944f28c2a7",
   "metadata": {},
   "source": [
    "from above graph most of orders are shipped through the courier"
   ]
  },
  {
   "cell_type": "code",
   "execution_count": 26,
   "id": "d1a98e1e-2b57-4bac-b438-f17cb624f1c1",
   "metadata": {},
   "outputs": [
    {
     "data": {
      "text/plain": [
       "<Axes: xlabel='Status', ylabel='count'>"
      ]
     },
     "execution_count": 26,
     "metadata": {},
     "output_type": "execute_result"
    },
    {
     "data": {
      "image/png": "[encoded data removed]",
      "text/plain": [
       "<Figure size 640x480 with 1 Axes>"
      ]
     },
     "metadata": {},
     "output_type": "display_data"
    }
   ],
   "source": [
    "sns.countplot(data=df,x='Status',hue='Status')"
   ]
  },
  {
   "cell_type": "code",
   "execution_count": 27,
   "id": "64aada2c-438e-4a2e-9ef4-59b2b57d9e68",
   "metadata": {},
   "outputs": [
    {
     "data": {
      "text/plain": [
       "([0, 1, 2, 3, 4, 5, 6, 7, 8, 9],\n",
       " [Text(0, 0, 'Kentucky'),\n",
       "  Text(1, 0, 'California'),\n",
       "  Text(2, 0, 'Florida'),\n",
       "  Text(3, 0, 'North Carolina'),\n",
       "  Text(4, 0, 'Washington'),\n",
       "  Text(5, 0, 'Texas'),\n",
       "  Text(6, 0, 'Wisconsin'),\n",
       "  Text(7, 0, 'Utah'),\n",
       "  Text(8, 0, 'Nebraska'),\n",
       "  Text(9, 0, 'Pennsylvania')])"
      ]
     },
     "execution_count": 27,
     "metadata": {},
     "output_type": "execute_result"
    },
    {
     "data": {
      "image/png": "[encoded data removed]",
      "text/plain": [
       "<Figure size 1000x400 with 1 Axes>"
      ]
     },
     "metadata": {},
     "output_type": "display_data"
    }
   ],
   "source": [
    "plt.figure(figsize=(10,4))\n",
    "sns.countplot(x='State',data=df)\n",
    "plt.title('products distribution of state')\n",
    "plt.xticks(rotation=90)"
   ]
  },
  {
   "cell_type": "code",
   "execution_count": 15,
   "id": "01891300-1f1e-4aea-882a-d22f35c8e9eb",
   "metadata": {},
   "outputs": [
    {
     "data": {
      "text/plain": [
       "Text(0.5, 1.0, 'nj')"
      ]
     },
     "execution_count": 15,
     "metadata": {},
     "output_type": "execute_result"
    },
    {
     "data": {
      "image/png": "[encoded data removed]",
      "text/plain": [
       "<Figure size 1500x500 with 1 Axes>"
      ]
     },
     "metadata": {},
     "output_type": "display_data"
    }
   ],
   "source": [
    "plt.figure(figsize=(15,5))\n",
    "sns.countplot(x='State',data=df)\n",
    "plt.title('nj')"
   ]
  },
  {
   "cell_type": "code",
   "execution_count": 18,
   "id": "c67d50a7-50f5-4796-bfb5-577157e883e5",
   "metadata": {},
   "outputs": [
    {
     "data": {
      "text/plain": [
       "Text(0.5, 1.0, 'nj')"
      ]
     },
     "execution_count": 18,
     "metadata": {},
     "output_type": "execute_result"
    },
    {
     "data": {
      "image/png": "[encoded data removed]",
      "text/plain": [
       "<Figure size 1500x500 with 1 Axes>"
      ]
     },
     "metadata": {},
     "output_type": "display_data"
    }
   ],
   "source": [
    "plt.figure(figsize=(15,5))\n",
    "\n",
    "plt.title('nj')"
   ]
  },
  {
   "cell_type": "code",
   "execution_count": 22,
   "id": "fa05a2cd-e1b2-4353-b65e-89785413cd94",
   "metadata": {},
   "outputs": [
    {
     "data": {
      "image/png": "[encoded data removed]",
      "text/plain": [
       "<Figure size 1500x400 with 1 Axes>"
      ]
     },
     "metadata": {},
     "output_type": "display_data"
    }
   ],
   "source": [
    "plt.figure(figsize=(15,4))\n",
    "plt.title('products distribution of state')\n",
    "plt.xticks(rotation=90)\n",
    "plt.show()"
   ]
  },
  {
   "cell_type": "code",
   "execution_count": null,
   "id": "7c1ffc75-55e5-43e2-baf2-3fffe78815dc",
   "metadata": {},
   "outputs": [],
   "source": []
  }
 ],
 "metadata": {
  "kernelspec": {
   "display_name": "Python 3 (ipykernel)",
   "language": "python",
   "name": "python3"
  },
  "language_info": {
   "codemirror_mode": {
    "name": "ipython",
    "version": 3
   },
   "file_extension": ".py",
   "mimetype": "text/x-python",
   "name": "python",
   "nbconvert_exporter": "python",
   "pygments_lexer": "ipython3",
   "version": "3.12.4"
  }
 },
 "nbformat": 4,
 "nbformat_minor": 5
}
